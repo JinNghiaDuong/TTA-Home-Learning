{
 "cells": [
  {
   "cell_type": "code",
   "execution_count": 1,
   "metadata": {},
   "outputs": [
    {
     "name": "stdout",
     "output_type": "stream",
     "text": [
      "It's Homework Learning Task week 2 from Jin Duong\n"
     ]
    }
   ],
   "source": [
    "print(\"It's Homework Learning Task week 2 from Jin Duong\")"
   ]
  },
  {
   "cell_type": "markdown",
   "metadata": {},
   "source": [
    "# TASK 1\n",
    "Write a program that does the following:\n",
    "a) Stores a random number (1 10) in a variable see hint below.\n",
    "b) Asks a user for their name and stores this in a variable.\n",
    "c) Asks a user to guess the number between 1 and 10.\n",
    "d) Tells the user whether they have guessed correctly."
   ]
  },
  {
   "cell_type": "code",
   "execution_count": 65,
   "metadata": {},
   "outputs": [
    {
     "name": "stdout",
     "output_type": "stream",
     "text": [
      "Your guess is correctly. Welldone Jin\n"
     ]
    }
   ],
   "source": [
    "# Stores a random number (1 10) in a variable see hint below.\n",
    "import random\n",
    "rd = random.randint(1,10)\n",
    "\n",
    "# Asks a user for their name and stores this in a variable.\n",
    "user_name = input(\"What is your name?\")\n",
    "\n",
    "#  Asks a user to guess the number between 1 and 10.\n",
    "user_guess = input(\"Please guess a number from 1 to 10\")\n",
    "while user_guess != \"1\" and user_guess != \"2\" and user_guess != \"3\" and user_guess != \"4\" and user_guess != \"5\" and user_guess != \"6\" and user_guess != \"7\" and user_guess != \"8\" and user_guess != \"9\" and user_guess != \"10\":\n",
    "    user_guess = input(\"Please only insert A NUMBER FROM 1 to 10\")\n",
    "else: user_guess = int(user_guess)\n",
    "\n",
    "\n",
    "#Tells the user whether they have guessed correctly.\n",
    "if user_guess == rd:\n",
    "    print(\"Your guess is correctly. Welldone\", user_name)\n",
    "else: \n",
    "    print(\"Your guess it not correct,\", user_name, \". Please, try again\")\n"
   ]
  },
  {
   "cell_type": "markdown",
   "metadata": {},
   "source": [
    "# ? \n",
    "Question for task1 :\n",
    "What is the difference between\n",
    "\n",
    "while user_guess != \"1\" and user_guess != \"2\" and user_guess != \"3\" and user_guess != \"4\" and user_guess != \"5\" and user_guess != \"6\" and user_guess != \"7\" and user_guess != \"8\" and user_guess != \"9\" and user_guess != \"10\":\n",
    "    user_guess = input(\"Please only insert A NUMBER FROM 1 to 10\")\n",
    "else: user_guess = int(user_guess)\n",
    "\n",
    "and \n",
    "\n",
    "while user_guess != \"1\" and \"2\" and \"3\" and  \"4\" and \"5\" and \"6\" and \"7\" and \"8\" and \"9\" and\"10\":\n",
    "    user_guess = input(\"Please only insert A NUMBER FROM 1 to 10\")\n",
    "else: user_guess = int(user_guess)"
   ]
  },
  {
   "cell_type": "markdown",
   "metadata": {},
   "source": [
    "# Task 2\n",
    "Write a program that asks a user for their favourite number between 1\n",
    "and 100 and then tells them a joke based on the number. You should\n",
    "use a minimum of 3 jokes."
   ]
  },
  {
   "cell_type": "markdown",
   "metadata": {},
   "source": []
  },
  {
   "cell_type": "code",
   "execution_count": 129,
   "metadata": {},
   "outputs": [
    {
     "name": "stdout",
     "output_type": "stream",
     "text": [
      "haha\n"
     ]
    }
   ],
   "source": [
    "fav_number = input(\"What is your favourite number from 1 to 100?\")\n",
    "joke1 = \"haha\"\n",
    "jokes2 = \"hehe\"\n",
    "jokes3 = \"hihi\"\n",
    "# to make sure an user's input could be tranformed to interger and be no negative value:\n",
    "while fav_number.isdigit() != True:\n",
    "    fav_number = input(\"Please only choose number from 1 to 100\")\n",
    "else: fav_number = int(fav_number)\n",
    "# to make sure the range is in 0 and 100:\n",
    "joke_index = fav_number % 3 # for the joke outcome\n",
    "if fav_number >100:\n",
    "    print(\"number is larger than 100, do that again\")\n",
    "elif joke_index == 1:\n",
    "    print(joke1)\n",
    "elif joke_index == 2:\n",
    "    print(jokes2)\n",
    "else: print(jokes3)\n"
   ]
  },
  {
   "cell_type": "markdown",
   "metadata": {},
   "source": [
    "# ? \n",
    "Questions for task 2: \n",
    "Struggling with \"while\" loops, espcially combine with if-else condition."
   ]
  },
  {
   "cell_type": "markdown",
   "metadata": {},
   "source": [
    "# Task 3\n",
    "Write a program that allows user to enter their favourite starter, main\n",
    "course, dessert and drink.\n",
    "Concatenate these and output a message which says\n",
    "––“Your favourite\n",
    "meal is ………with a glass of….”"
   ]
  },
  {
   "cell_type": "code",
   "execution_count": 142,
   "metadata": {},
   "outputs": [
    {
     "name": "stdout",
     "output_type": "stream",
     "text": [
      "Your favourite meal is 1 2 3with a glass of 4!\n"
     ]
    }
   ],
   "source": [
    "starter = input(\"What is your favourite starter?\")\n",
    "main_course = input(\"What is your favourite maincourse?\")\n",
    "dessert = input(\"What is your favourite dessert?\")\n",
    "drink = input(\"what is your favourite drink?\")\n",
    "\n",
    "print(\"Your favourite meal is\", starter, main_course, dessert, \"with a glass of \" + drink + \"!\")"
   ]
  },
  {
   "cell_type": "markdown",
   "metadata": {},
   "source": [
    "# Task 4\n",
    "A motorbike costs  2000 and loses 10% of its value every year. Using a\n",
    "loop, print the value of the bike every following year until it falls below #1000"
   ]
  },
  {
   "cell_type": "code",
   "execution_count": 140,
   "metadata": {},
   "outputs": [
    {
     "name": "stdout",
     "output_type": "stream",
     "text": [
      "For year 2, bike value is 1800.0\n",
      "For year 3, bike value is 1620.0\n",
      "For year 4, bike value is 1458.0\n",
      "For year 5, bike value is 1312.2\n",
      "For year 6, bike value is 1180.98\n",
      "For year 7, bike value is 1062.882\n"
     ]
    }
   ],
   "source": [
    "initial_cost = 2000\n",
    "first_year = 1\n",
    "while initial_cost * 0.9 >= 1000:\n",
    "    first_year = first_year + 1\n",
    "    initial_cost = initial_cost * 0.9\n",
    "    print(\"For year\", str(first_year) + \", bike value is\", initial_cost)"
   ]
  },
  {
   "cell_type": "markdown",
   "metadata": {},
   "source": [
    "# Task 5\n",
    "Write a program which will ask for two numbers from a user. Then\n",
    "offer a menu to the user giving them a choice of operator:\n",
    "e.g. Enter “a” if you want to add\n",
    "“b” if you want to subtract\n",
    "Include +,\n",
    "--, /, *, ** square (to the power of). Once the user has\n",
    "selected which operator they wish to use, perform the calculation."
   ]
  },
  {
   "cell_type": "code",
   "execution_count": 164,
   "metadata": {},
   "outputs": [
    {
     "name": "stdout",
     "output_type": "stream",
     "text": [
      "Power result is 25.0\n"
     ]
    }
   ],
   "source": [
    "number_1 = input(\"Choose the 1st number\")\n",
    "number_2 = input(\"Choose the 2nd number\")\n",
    "operator = input(\"Choose A if for adding, B for subtracting, C for dividing, D for multiplying, E for powering\")\n",
    "if operator == \"A\":\n",
    "    Add = float(number_1) + float(number_2)\n",
    "    print(\"Addition result is\", Add)\n",
    "elif operator == \"B\":\n",
    "    Sub = float(number_1) - float(number_2)\n",
    "    print(\"Subtraction result is\", Sub)\n",
    "elif operator == \"C\":\n",
    "    Div = float(number_1) / float(number_2)\n",
    "    print(\"Divide result is\", Div)\n",
    "elif operator == \"D\":\n",
    "    mul = float(number_1) * float(number_2)\n",
    "    print(\"Power result is\", mul)\n",
    "elif operator == \"E\":\n",
    "    pow = float(number_1) ** float(number_2)\n",
    "    print(\"Power result is\", pow)\n",
    "\n",
    "# I simplified the situation here lot as if I considered all the situations, it would be very complicated. I am aware that if this is the real task, it would be way way more lenghty than that."
   ]
  },
  {
   "cell_type": "code",
   "execution_count": null,
   "metadata": {},
   "outputs": [],
   "source": []
  }
 ],
 "metadata": {
  "interpreter": {
   "hash": "aee8b7b246df8f9039afb4144a1f6fd8d2ca17a180786b69acc140d282b71a49"
  },
  "kernelspec": {
   "display_name": "Python 3.10.2 64-bit",
   "language": "python",
   "name": "python3"
  },
  "language_info": {
   "codemirror_mode": {
    "name": "ipython",
    "version": 3
   },
   "file_extension": ".py",
   "mimetype": "text/x-python",
   "name": "python",
   "nbconvert_exporter": "python",
   "pygments_lexer": "ipython3",
   "version": "3.10.2"
  },
  "orig_nbformat": 4
 },
 "nbformat": 4,
 "nbformat_minor": 2
}
