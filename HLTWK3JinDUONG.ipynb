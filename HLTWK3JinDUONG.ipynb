{
 "cells": [
  {
   "cell_type": "markdown",
   "metadata": {},
   "source": [
    "# Create your own Flow Diagram, a subject of your own choice: Fast food"
   ]
  },
  {
   "cell_type": "code",
   "execution_count": 2,
   "metadata": {},
   "outputs": [
    {
     "name": "stdout",
     "output_type": "stream",
     "text": [
      "Wrong choice, please choose again\n",
      "Your menu is Menu for customers without allergy\n"
     ]
    }
   ],
   "source": [
    "Choice = input(\"Do you have any allergy? - Choose Y for Yes and N for No\")\n",
    "Menu_allergy = \"Menu for customer with allergy\"\n",
    "Menu = \"Menu for customers without allergy\"\n",
    "\n",
    "if Choice == \"Y\":\n",
    "    Final_menu = Menu_allergy\n",
    "elif Choice == \"N\":\n",
    "    Final_menu = Menu\n",
    "else: print(\"Wrong choice, please choose again\")\n",
    "\n",
    "print(\"Your menu is\", Menu)"
   ]
  },
  {
   "cell_type": "markdown",
   "metadata": {},
   "source": [
    "# As an extension to the motorbike task that costs £2000 and loses 10% of its value every year. Set up a function that performs the calculation by passing in parameters. Then using a loop, print the value of the bike every following year until it falls below £1000."
   ]
  },
  {
   "cell_type": "code",
   "execution_count": 49,
   "metadata": {},
   "outputs": [],
   "source": [
    "def calculation(bike_cost, bike_year): # bike_cost is the initial cost of the bike, and bike_year is the year using\n",
    "        float_year = 1\n",
    "        if float(bike_year) == 0:\n",
    "                print(bike_cost)\n",
    "                return bike_cost\n",
    "        elif float(bike_year) < 0:\n",
    "                print(\"Wrong value\")\n",
    "        elif int(bike_cost) <=0:\n",
    "                print(\"Wrong value\")\n",
    "        else:\n",
    "                while float_year <= int(bike_year):\n",
    "                        bike_cost = float(bike_cost)*0.9\n",
    "                        float_year = float_year + 1\n",
    "                return bike_cost\n",
    "\n",
    "\n"
   ]
  },
  {
   "cell_type": "code",
   "execution_count": 53,
   "metadata": {},
   "outputs": [
    {
     "name": "stdout",
     "output_type": "stream",
     "text": [
      "At the year 2 the value of the bike is 1620.0\n",
      "At the year 3 the value of the bike is 1458.0\n",
      "At the year 4 the value of the bike is 1312.2\n",
      "At the year 5 the value of the bike is 1180.98\n",
      "At the year 6 the value of the bike is 1062.882\n",
      "At the year 7 the value of the bike is 956.5938000000001\n"
     ]
    }
   ],
   "source": [
    "initial_year = 1\n",
    "final_value = calculation(2000, initial_year)\n",
    "while final_value > 1000:\n",
    "    initial_year = initial_year + 1\n",
    "    final_value = calculation(2000, initial_year)\n",
    "    print(\"At the year\", initial_year, \"the value of the bike is\", final_value)"
   ]
  },
  {
   "cell_type": "markdown",
   "metadata": {},
   "source": [
    "# Write a program which will ask for two numbers from a user. Then offer an option menu to the user giving them a choice of maths operators. Once the user has selected which operator they wish to use, perform the calculation by using a procedure and passing parameters."
   ]
  },
  {
   "cell_type": "code",
   "execution_count": 62,
   "metadata": {},
   "outputs": [],
   "source": [
    "def arithmetic(inp_number1, inp_number2):\n",
    "    number1 = inp_number1\n",
    "    number2 = inp_number2\n",
    "    operator = input('Choose between \"add\", \"sub\", \"divide\", \"power\", \"multiply\"')\n",
    "    if operator == \"add\":\n",
    "        result = number1 + number2\n",
    "        print(number1,\"+\", number2, \"=\", result)\n",
    "    elif operator == \"sub\":\n",
    "        result = number1 - number2\n",
    "        print(number1,\"-\", number2, \"=\", result)\n",
    "    elif operator == \"divide\":\n",
    "        result = number1/number2\n",
    "        print(number1,\"/\", number2, \"=\", result)\n",
    "    elif operator == \"multiply\":\n",
    "        result = number1*number2\n",
    "        print(number1,\"*\", number2, \"=\", result)\n",
    "    elif operator == \"power\":\n",
    "        result = number1**number2\n",
    "        print(number1,\"^\", number2, \"=\", result)\n",
    "    else: print(\"wrong operator\")\n",
    "    "
   ]
  },
  {
   "cell_type": "code",
   "execution_count": 66,
   "metadata": {},
   "outputs": [
    {
     "name": "stdout",
     "output_type": "stream",
     "text": [
      "1.0 + 2.0 = 3.0\n"
     ]
    }
   ],
   "source": [
    "number1 = float(input(\"Please choose your 1st number\"))\n",
    "number2 = float(input(\"Please choose your 2nd number\"))\n",
    "arithmetic(number1, number2)"
   ]
  },
  {
   "cell_type": "code",
   "execution_count": null,
   "metadata": {},
   "outputs": [],
   "source": []
  }
 ],
 "metadata": {
  "interpreter": {
   "hash": "aee8b7b246df8f9039afb4144a1f6fd8d2ca17a180786b69acc140d282b71a49"
  },
  "kernelspec": {
   "display_name": "Python 3.10.2 64-bit",
   "language": "python",
   "name": "python3"
  },
  "language_info": {
   "codemirror_mode": {
    "name": "ipython",
    "version": 3
   },
   "file_extension": ".py",
   "mimetype": "text/x-python",
   "name": "python",
   "nbconvert_exporter": "python",
   "pygments_lexer": "ipython3",
   "version": "3.10.2"
  },
  "orig_nbformat": 4
 },
 "nbformat": 4,
 "nbformat_minor": 2
}
