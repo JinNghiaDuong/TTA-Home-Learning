{
 "cells": [
  {
   "cell_type": "markdown",
   "metadata": {},
   "source": [
    "# Task 1:\n",
    "Write a program that allows you to enter 4 numbers and stores them in a file called “Numbers”\n",
    "3\n",
    "45 \n",
    " 83\n",
    " 21\n",
    "Have a go at ‘w’ ‘r’  ‘a’\n"
   ]
  },
  {
   "cell_type": "code",
   "execution_count": null,
   "metadata": {},
   "outputs": [],
   "source": [
    "my_file = open(\"Numbers\", \"w\")\n",
    "\n"
   ]
  },
  {
   "cell_type": "code",
   "execution_count": null,
   "metadata": {},
   "outputs": [],
   "source": [
    "my_file.write(\"3 \\n45 \\n83 \\n21\") #why can't I use with input function?\n",
    "my_file.close()"
   ]
  },
  {
   "cell_type": "code",
   "execution_count": null,
   "metadata": {},
   "outputs": [],
   "source": [
    "my_file = open(\"Numbers\", \"a\")\n",
    "my_file.write(\"3 \\n45 \\n83 \\n21\")\n",
    "my_file.close()"
   ]
  },
  {
   "cell_type": "code",
   "execution_count": null,
   "metadata": {},
   "outputs": [],
   "source": [
    "my_file = open(\"Numbers\", \"r\")\n",
    "# Can't write or append on \"read\" mode"
   ]
  },
  {
   "cell_type": "markdown",
   "metadata": {},
   "source": [
    "# Task 2\n",
    "Write a program to ask a student for their percentage mark and convert this to a grade\n",
    "\n",
    "The conversion will be done in a function called mark_grade \n"
   ]
  },
  {
   "cell_type": "code",
   "execution_count": 18,
   "metadata": {},
   "outputs": [],
   "source": [
    "def mark_grade(inp_percen_mark):\n",
    "    global grade\n",
    "    if float(inp_percen_mark) > 0 and float(inp_percen_mark) <= 40:\n",
    "        grade = \"F\"\n",
    "        print(\"Your\",inp_percen_mark,\"percentage mark is\", grade)\n",
    "    elif float(inp_percen_mark) > 40 and float(inp_percen_mark) <= 50:\n",
    "        grade = \"D\"\n",
    "        print(\"Your\",inp_percen_mark, \"percentage mark is\", grade)\n",
    "    elif float(inp_percen_mark) > 50 and float(inp_percen_mark) <= 60:\n",
    "        grade = \"C\"\n",
    "        print(\"Your\",inp_percen_mark, \"percentage mark is\", grade)\n",
    "    elif float(inp_percen_mark) > 60 and float(inp_percen_mark) <= 70:\n",
    "        grade = \"B\"\n",
    "        print(\"Your\",inp_percen_mark, \"percentage mark is\", grade)\n",
    "    elif float(inp_percen_mark) > 70 and float(inp_percen_mark) <= 100:\n",
    "        grade = \"A\"\n",
    "        print(\"Your\",inp_percen_mark, \"percentage mark is\", grade)\n",
    "    else: print(\"wrong input\")\n",
    "    return\n",
    "\n",
    "    ## I have to use: \"global grade\"\n",
    "    ## otherwise I can't print out \"grade\" even I created it inside the function above?\n",
    "    ## print(grade): there'd error for name error "
   ]
  },
  {
   "cell_type": "code",
   "execution_count": null,
   "metadata": {},
   "outputs": [],
   "source": [
    "mark_grade(15)"
   ]
  },
  {
   "cell_type": "markdown",
   "metadata": {},
   "source": [
    "# Extension to Task 2:\n",
    "\n",
    "Ask the user for their target grade and print this with their mark \n",
    "<br>\n",
    "If their target grade > exam grade display a suitable message\n",
    "<br>\n",
    "If their target grade = exam grade display a suitable message\n",
    "<br>\n",
    "If their target grade < exam grade display a suitable message\n",
    "\n"
   ]
  },
  {
   "cell_type": "code",
   "execution_count": 21,
   "metadata": {},
   "outputs": [],
   "source": [
    "def grade_noti():\n",
    "    inp_grade = input(\"What is your mark (in percentage)?\")\n",
    "    exp_grade = input(\"what is your target grade\")\n",
    "    if float(inp_grade) < 0 or float(inp_grade) > 100:\n",
    "        print(\"wrong value\")\n",
    "        quit()\n",
    "    else: mark_grade(inp_grade) #run the function above to transform grade\n",
    "    inp_grade = grade           #assign the result tranformed\n",
    "    if float(exp_grade) < 0 or float(exp_grade) > 100:\n",
    "        print(\"wrong value\")\n",
    "        quit()\n",
    "    else: mark_grade(exp_grade) #run the function above to transform grade\n",
    "    exp_grade = grade           #assign the result tranformed\n",
    "    if inp_grade == exp_grade: # I consider condition of similar grade first, then exam grade is higher than target, and \"else\" for the exam grade is lower than target one\n",
    "        print(\"Your exam grade is the same as your target grade\")\n",
    "    elif inp_grade != exp_grade:\n",
    "        if inp_grade == \"A\":\n",
    "             print(\"Your exam grade is higher than your target grade\")\n",
    "        elif inp_grade == \"B\" and exp_grade != \"A\":\n",
    "            print(\"Your exam grade is higher than your target grade\")\n",
    "        elif inp_grade == \"C\" and (exp_grade != \"A\" and exp_grade != \"B\"):\n",
    "            print(\"Your exam grade is higher than your target grade\")\n",
    "        elif inp_grade == \"D\" and (exp_grade == \"E\" or exp_grade == \"F\"):\n",
    "            print(\"Your exam grade is higher than your target grade\")\n",
    "        elif inp_grade == \"E\" and exp_grade == \"F\":\n",
    "            print(\"Your exam grade is higher than your target grade\")\n",
    "        else:\n",
    "            print(\"Your exam grade is lower than target grade\")\n",
    "    return\n"
   ]
  },
  {
   "cell_type": "code",
   "execution_count": 24,
   "metadata": {},
   "outputs": [
    {
     "name": "stdout",
     "output_type": "stream",
     "text": [
      "Your 40 percentage mark is F\n",
      "Your 12 percentage mark is F\n",
      "Your exam grade is the same as your target grade\n"
     ]
    }
   ],
   "source": [
    "grade_noti()"
   ]
  },
  {
   "cell_type": "markdown",
   "metadata": {},
   "source": [
    "# Numpy HTL:"
   ]
  },
  {
   "cell_type": "markdown",
   "metadata": {},
   "source": [
    "Create a 1D array of numbers from 0 to 9 <br>\n",
    "Create a 3×3 NumPy array of all Boolean value Trues <Br>\n",
    "Extract all odd numbers from array of 1-10 <br>\n",
    "Replace all odd numbers in an array of 1-10 with the value -1 <br>\n",
    "Convert a 1D array to a 2D array with 2 rows <br>\n",
    "Create two arrays a and b, stack these two arrays vertically use the  np.dot and np.sum to calculate totals \n"
   ]
  },
  {
   "cell_type": "code",
   "execution_count": 30,
   "metadata": {},
   "outputs": [
    {
     "name": "stdout",
     "output_type": "stream",
     "text": [
      "Requirement already satisfied: numpy in /Library/Frameworks/Python.framework/Versions/3.10/lib/python3.10/site-packages (1.22.3)\n",
      "\u001b[33mWARNING: You are using pip version 21.2.4; however, version 22.0.4 is available.\n",
      "You should consider upgrading via the '/usr/local/bin/python3 -m pip install --upgrade pip' command.\u001b[0m\n",
      "Note: you may need to restart the kernel to use updated packages.\n"
     ]
    }
   ],
   "source": [
    "pip install numpy"
   ]
  },
  {
   "cell_type": "code",
   "execution_count": 96,
   "metadata": {},
   "outputs": [],
   "source": [
    "import numpy as np"
   ]
  },
  {
   "cell_type": "code",
   "execution_count": 126,
   "metadata": {},
   "outputs": [
    {
     "name": "stdout",
     "output_type": "stream",
     "text": [
      "[0 1 2 3 4 5 6 7 8 9]\n"
     ]
    }
   ],
   "source": [
    "array = np.arange(10) # Create a 1D array of numbers from 0 to 9\n",
    "print(array)"
   ]
  },
  {
   "cell_type": "code",
   "execution_count": 67,
   "metadata": {},
   "outputs": [
    {
     "data": {
      "text/plain": [
       "array([[ True,  True,  True],\n",
       "       [ True,  True,  True],\n",
       "       [ True,  True,  True]])"
      ]
     },
     "execution_count": 67,
     "metadata": {},
     "output_type": "execute_result"
    }
   ],
   "source": [
    "np.full([3,3], True) #Create a 3×3 NumPy array of all Boolean value Trues"
   ]
  },
  {
   "cell_type": "code",
   "execution_count": 133,
   "metadata": {},
   "outputs": [
    {
     "name": "stdout",
     "output_type": "stream",
     "text": [
      "[ 1  2  3  4  5  6  7  8  9 10]\n"
     ]
    }
   ],
   "source": [
    "array_3 = np.arange(1, 11) #create array from 1 to 10\n",
    "print(array_3)\n",
    "array_odd = np.delete(array_3, np.where(array_3 % 2 != 0)) # remove all odd numbers and assigned new array into new array named array_odd\n"
   ]
  },
  {
   "cell_type": "code",
   "execution_count": 143,
   "metadata": {},
   "outputs": [
    {
     "name": "stdout",
     "output_type": "stream",
     "text": [
      "[-1  2 -1  4 -1  6 -1  8 -1 10]\n"
     ]
    }
   ],
   "source": [
    "# replace all odd numbers with -1\n",
    "array_odd_1 = np.where(array_3 % 2 != 0, #condition elements are odd number\n",
    "                                     -1, #then replaced with -1\n",
    "                                      array_3) #otherwise remains\n",
    "                                      \n",
    "print(array_odd_1)"
   ]
  },
  {
   "cell_type": "code",
   "execution_count": 153,
   "metadata": {},
   "outputs": [],
   "source": [
    "#Convert a 1D array to a 2D array with 2 rows\n",
    "array_2D = array.reshape(5, 2)\n"
   ]
  },
  {
   "cell_type": "code",
   "execution_count": 99,
   "metadata": {},
   "outputs": [
    {
     "name": "stdout",
     "output_type": "stream",
     "text": [
      "array a is [[5 6 3]\n",
      " [6 9 4]\n",
      " [2 5 1]]\n",
      "array b is [[ 4  1  3]\n",
      " [ 6 16 16]\n",
      " [ 4 16  1]]\n",
      "the dot product of 2 arrays is [[ 68 149 114]\n",
      " [ 94 214 166]\n",
      " [ 42  98  87]]\n"
     ]
    },
    {
     "data": {
      "text/plain": [
       "array([[[ 5,  4],\n",
       "        [ 6,  1],\n",
       "        [ 3,  3]],\n",
       "\n",
       "       [[ 6,  6],\n",
       "        [ 9, 16],\n",
       "        [ 4, 16]],\n",
       "\n",
       "       [[ 2,  4],\n",
       "        [ 5, 16],\n",
       "        [ 1,  1]]])"
      ]
     },
     "execution_count": 99,
     "metadata": {},
     "output_type": "execute_result"
    }
   ],
   "source": [
    "#Create two arrays a and b, stack these two arrays vertically use the  np.dot and np.sum to calculate totals\n",
    "array_a = np.random.randint(0,10, size = [3,3])\n",
    "array_b = np.random.randint(0, 20, size = [3,3])\n",
    "array_c = np.dot(array_a, array_b)\n",
    "print(\"array a is\", array_a)\n",
    "print(\"array b is\", array_b)\n",
    "print(\"the dot product of 2 arrays is\", array_c)\n",
    "\n",
    "np.sum(array_c)\n",
    "\n",
    "#Stack array_a and array_b vertically\n",
    "np.stack([array_a, array_b], axis= 2)\n"
   ]
  },
  {
   "cell_type": "markdown",
   "metadata": {},
   "source": [
    "# Create the following pattern without hardcoding. Use only NumPy  functions.\n"
   ]
  },
  {
   "cell_type": "code",
   "execution_count": 107,
   "metadata": {},
   "outputs": [
    {
     "name": "stdout",
     "output_type": "stream",
     "text": [
      "[1 1 1 2 2 2 3 3 3 1 2 3 1 2 3 1 2 3]\n"
     ]
    }
   ],
   "source": [
    "array_repeat = np.concatenate(np.repeat([1,2,3, (1,2,3)], 3), axis = None) #create the repeated array with then flatten the dimension with axis  = None\n",
    "print(array_repeat)"
   ]
  },
  {
   "cell_type": "markdown",
   "metadata": {},
   "source": [
    "# In two arrays a ( 1,2,3,4,5) and b ( 4,5,6,7,8,9) – remove all repeating  items present in array b\n"
   ]
  },
  {
   "cell_type": "code",
   "execution_count": 146,
   "metadata": {},
   "outputs": [],
   "source": [
    "array_a = [1,2,3,4,5]\n",
    "array_b = [4,5,6,7,8,9]"
   ]
  },
  {
   "cell_type": "code",
   "execution_count": 136,
   "metadata": {},
   "outputs": [
    {
     "name": "stdout",
     "output_type": "stream",
     "text": [
      "[6, 7, 8, 9]\n"
     ]
    }
   ],
   "source": [
    "# First solution\n",
    "array_bb = [4,5,6,7,8,9] #Clone array_b to avoid \"list index out of range error\"\n",
    "for i in array_a:\n",
    "    for j in range(len(array_b)):\n",
    "        if i == array_b[j]:\n",
    "         array_bb.remove(array_b[j]) #if use array_b here, there would be \"list index out of range error\"\n",
    "\n",
    "print(array_bb)"
   ]
  },
  {
   "cell_type": "code",
   "execution_count": 140,
   "metadata": {},
   "outputs": [
    {
     "name": "stdout",
     "output_type": "stream",
     "text": [
      "[6, 7, 8, 9]\n"
     ]
    }
   ],
   "source": [
    "# Second solution (simple):\n",
    "for i in array_a:\n",
    "    for j in array_b:\n",
    "        if i == j:\n",
    "         array_b.remove(j)\n",
    "\n",
    "print(array_b)"
   ]
  },
  {
   "cell_type": "markdown",
   "metadata": {},
   "source": [
    "# 3. Get all items between 3 and 7 from a and b and sum them together\n"
   ]
  },
  {
   "cell_type": "code",
   "execution_count": 175,
   "metadata": {},
   "outputs": [],
   "source": [
    "array_a = [1,2,3,4,5]\n",
    "array_b = [4,5,6,7,8,9]"
   ]
  },
  {
   "cell_type": "code",
   "execution_count": 176,
   "metadata": {},
   "outputs": [
    {
     "name": "stdout",
     "output_type": "stream",
     "text": [
      "[3, 4, 5] [4, 5, 6, 7]\n"
     ]
    },
    {
     "data": {
      "text/plain": [
       "34"
      ]
     },
     "execution_count": 176,
     "metadata": {},
     "output_type": "execute_result"
    }
   ],
   "source": [
    "for i in array_a.copy(): # to avoid skipping issue caused if using original array\n",
    "    if i < 3:\n",
    "        array_a.remove(i) #remove all elements < 3 in array_a\n",
    "\n",
    "for i in array_b.copy(): #similar\n",
    "    if i < 3 or i > 7:\n",
    "        array_b.remove(i) #similar\n",
    "\n",
    "print(array_a, array_b)\n",
    "np.sum([np.sum([array_a, array_b])], dtype=object)"
   ]
  }
 ],
 "metadata": {
  "interpreter": {
   "hash": "aee8b7b246df8f9039afb4144a1f6fd8d2ca17a180786b69acc140d282b71a49"
  },
  "kernelspec": {
   "display_name": "Python 3.10.2 64-bit",
   "language": "python",
   "name": "python3"
  },
  "language_info": {
   "codemirror_mode": {
    "name": "ipython",
    "version": 3
   },
   "file_extension": ".py",
   "mimetype": "text/x-python",
   "name": "python",
   "nbconvert_exporter": "python",
   "pygments_lexer": "ipython3",
   "version": "3.10.2"
  },
  "orig_nbformat": 4
 },
 "nbformat": 4,
 "nbformat_minor": 2
}
