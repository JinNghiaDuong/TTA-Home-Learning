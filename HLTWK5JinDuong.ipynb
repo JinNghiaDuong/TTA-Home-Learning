{
 "cells": [
  {
   "cell_type": "code",
   "execution_count": 3,
   "metadata": {},
   "outputs": [
    {
     "name": "stdout",
     "output_type": "stream",
     "text": [
      "Collecting pandas\n",
      "  Using cached pandas-1.4.2-cp310-cp310-macosx_10_9_x86_64.whl (11.1 MB)\n",
      "Requirement already satisfied: numpy>=1.21.0 in /Library/Frameworks/Python.framework/Versions/3.10/lib/python3.10/site-packages (from pandas) (1.22.3)\n",
      "Requirement already satisfied: python-dateutil>=2.8.1 in /Library/Frameworks/Python.framework/Versions/3.10/lib/python3.10/site-packages (from pandas) (2.8.2)\n",
      "Collecting pytz>=2020.1\n",
      "  Downloading pytz-2022.1-py2.py3-none-any.whl (503 kB)\n",
      "\u001b[2K     \u001b[90m━━━━━━━━━━━━━━━━━━━━━━━━━━━━━━━━━━━━━\u001b[0m \u001b[32m503.5/503.5 kB\u001b[0m \u001b[31m774.6 kB/s\u001b[0m eta \u001b[36m0:00:00\u001b[0m00:01\u001b[0m00:01\u001b[0m\n",
      "\u001b[?25hRequirement already satisfied: six>=1.5 in /Library/Frameworks/Python.framework/Versions/3.10/lib/python3.10/site-packages (from python-dateutil>=2.8.1->pandas) (1.16.0)\n",
      "Installing collected packages: pytz, pandas\n",
      "Successfully installed pandas-1.4.2 pytz-2022.1\n",
      "Note: you may need to restart the kernel to use updated packages.\n"
     ]
    }
   ],
   "source": [
    "pip install pandas"
   ]
  },
  {
   "cell_type": "code",
   "execution_count": 1,
   "metadata": {},
   "outputs": [],
   "source": [
    "import pandas as pd"
   ]
  },
  {
   "cell_type": "markdown",
   "metadata": {},
   "source": [
    "# Create a CSV file of 15 holiday destinations for a website\n",
    "1. Add in a column of destinations\n",
    "2. Add in a column that shows feedback score out of 10 for that\n",
    "destination\n",
    "3. Add in a column for average hotel star rating for those\n",
    "destinations\n",
    "4. Add in a column for number of all-inclusive hotels within each\n",
    "destination\n",
    "5. Add in the most visited city in each destination\n"
   ]
  },
  {
   "cell_type": "code",
   "execution_count": 23,
   "metadata": {},
   "outputs": [],
   "source": [
    "# Create a CSV file of 15 holiday destinations for a website\n",
    "holliday = pd.DataFrame({\"Destination\": [\"UK\", \"Vietnam\",\"S.Korea\", \"USA\", \"China\",\n",
    "                                         \"India\",\"Germany\", \"South Africa\", \"New Zealand\", \"Thailand\",\n",
    "                                          \"Singapore\", \"Malaysia\", \"Australia\", \"Columbia\", \"Spain\"]}) # 1. Create a column of 15 destiantions\n",
    "\n",
    "holliday # Double check the data frame\n",
    "\n",
    "holliday.to_csv('/Users/jinduong/Documents/Data Science/2022/TTA - TechTalent Academy/DataAcademy/Week 5/PandasTask.csv', index= False) # Create a CSV file and choose the index to be NOT a seprate column\n"
   ]
  },
  {
   "cell_type": "code",
   "execution_count": 29,
   "metadata": {},
   "outputs": [
    {
     "data": {
      "text/html": [
       "<div>\n",
       "<style scoped>\n",
       "    .dataframe tbody tr th:only-of-type {\n",
       "        vertical-align: middle;\n",
       "    }\n",
       "\n",
       "    .dataframe tbody tr th {\n",
       "        vertical-align: top;\n",
       "    }\n",
       "\n",
       "    .dataframe thead th {\n",
       "        text-align: right;\n",
       "    }\n",
       "</style>\n",
       "<table border=\"1\" class=\"dataframe\">\n",
       "  <thead>\n",
       "    <tr style=\"text-align: right;\">\n",
       "      <th></th>\n",
       "      <th>Destination</th>\n",
       "      <th>Feedback Score</th>\n",
       "      <th>Average star rating</th>\n",
       "      <th>Number of local hotels</th>\n",
       "      <th>Most visited city</th>\n",
       "    </tr>\n",
       "  </thead>\n",
       "  <tbody>\n",
       "    <tr>\n",
       "      <th>0</th>\n",
       "      <td>UK</td>\n",
       "      <td>1</td>\n",
       "      <td>1</td>\n",
       "      <td>200</td>\n",
       "      <td>London</td>\n",
       "    </tr>\n",
       "    <tr>\n",
       "      <th>1</th>\n",
       "      <td>Vietnam</td>\n",
       "      <td>2</td>\n",
       "      <td>2</td>\n",
       "      <td>100</td>\n",
       "      <td>Hanoi</td>\n",
       "    </tr>\n",
       "    <tr>\n",
       "      <th>2</th>\n",
       "      <td>S.Korea</td>\n",
       "      <td>3</td>\n",
       "      <td>3</td>\n",
       "      <td>120</td>\n",
       "      <td>Seoul</td>\n",
       "    </tr>\n",
       "    <tr>\n",
       "      <th>3</th>\n",
       "      <td>USA</td>\n",
       "      <td>4</td>\n",
       "      <td>4</td>\n",
       "      <td>500</td>\n",
       "      <td>Wasington DC</td>\n",
       "    </tr>\n",
       "    <tr>\n",
       "      <th>4</th>\n",
       "      <td>China</td>\n",
       "      <td>5</td>\n",
       "      <td>5</td>\n",
       "      <td>600</td>\n",
       "      <td>Shanghai</td>\n",
       "    </tr>\n",
       "    <tr>\n",
       "      <th>5</th>\n",
       "      <td>India</td>\n",
       "      <td>6</td>\n",
       "      <td>1</td>\n",
       "      <td>590</td>\n",
       "      <td>Mumbai</td>\n",
       "    </tr>\n",
       "    <tr>\n",
       "      <th>6</th>\n",
       "      <td>Germany</td>\n",
       "      <td>7</td>\n",
       "      <td>2</td>\n",
       "      <td>580</td>\n",
       "      <td>Munich</td>\n",
       "    </tr>\n",
       "    <tr>\n",
       "      <th>7</th>\n",
       "      <td>South Africa</td>\n",
       "      <td>8</td>\n",
       "      <td>3</td>\n",
       "      <td>570</td>\n",
       "      <td>Cape Town</td>\n",
       "    </tr>\n",
       "    <tr>\n",
       "      <th>8</th>\n",
       "      <td>New Zealand</td>\n",
       "      <td>9</td>\n",
       "      <td>4</td>\n",
       "      <td>550</td>\n",
       "      <td>Wellington</td>\n",
       "    </tr>\n",
       "    <tr>\n",
       "      <th>9</th>\n",
       "      <td>Thailand</td>\n",
       "      <td>10</td>\n",
       "      <td>5</td>\n",
       "      <td>540</td>\n",
       "      <td>Bangkok</td>\n",
       "    </tr>\n",
       "    <tr>\n",
       "      <th>10</th>\n",
       "      <td>Singapore</td>\n",
       "      <td>1</td>\n",
       "      <td>1</td>\n",
       "      <td>530</td>\n",
       "      <td>Singgapore</td>\n",
       "    </tr>\n",
       "    <tr>\n",
       "      <th>11</th>\n",
       "      <td>Malaysia</td>\n",
       "      <td>2</td>\n",
       "      <td>2</td>\n",
       "      <td>520</td>\n",
       "      <td>Kuala Lumpur</td>\n",
       "    </tr>\n",
       "    <tr>\n",
       "      <th>12</th>\n",
       "      <td>Australia</td>\n",
       "      <td>3</td>\n",
       "      <td>3</td>\n",
       "      <td>480</td>\n",
       "      <td>Canberra</td>\n",
       "    </tr>\n",
       "    <tr>\n",
       "      <th>13</th>\n",
       "      <td>Columbia</td>\n",
       "      <td>4</td>\n",
       "      <td>4</td>\n",
       "      <td>470</td>\n",
       "      <td>Bogota</td>\n",
       "    </tr>\n",
       "    <tr>\n",
       "      <th>14</th>\n",
       "      <td>Spain</td>\n",
       "      <td>5</td>\n",
       "      <td>5</td>\n",
       "      <td>470</td>\n",
       "      <td>Marid</td>\n",
       "    </tr>\n",
       "  </tbody>\n",
       "</table>\n",
       "</div>"
      ],
      "text/plain": [
       "     Destination  Feedback Score  Average star rating  Number of local hotels  \\\n",
       "0             UK               1                    1                     200   \n",
       "1        Vietnam               2                    2                     100   \n",
       "2        S.Korea               3                    3                     120   \n",
       "3            USA               4                    4                     500   \n",
       "4          China               5                    5                     600   \n",
       "5          India               6                    1                     590   \n",
       "6        Germany               7                    2                     580   \n",
       "7   South Africa               8                    3                     570   \n",
       "8    New Zealand               9                    4                     550   \n",
       "9       Thailand              10                    5                     540   \n",
       "10     Singapore               1                    1                     530   \n",
       "11      Malaysia               2                    2                     520   \n",
       "12     Australia               3                    3                     480   \n",
       "13      Columbia               4                    4                     470   \n",
       "14         Spain               5                    5                     470   \n",
       "\n",
       "   Most visited city  \n",
       "0             London  \n",
       "1              Hanoi  \n",
       "2              Seoul  \n",
       "3       Wasington DC  \n",
       "4           Shanghai  \n",
       "5             Mumbai  \n",
       "6             Munich  \n",
       "7          Cape Town  \n",
       "8         Wellington  \n",
       "9            Bangkok  \n",
       "10        Singgapore  \n",
       "11      Kuala Lumpur  \n",
       "12          Canberra  \n",
       "13            Bogota  \n",
       "14             Marid  "
      ]
     },
     "execution_count": 29,
     "metadata": {},
     "output_type": "execute_result"
    }
   ],
   "source": [
    "# 2.Add in a column that shows feedback score out of 10 for that destination\n",
    "holliday['Feedback Score'] = (1, 2, 3, 4, 5, 6 , 7 , 8 ,9 ,10, 1, 2, 3 ,4 ,5)\n",
    "# 3. Add in a column for average hotel star rating for those destinations:\n",
    "holliday['Average star rating'] = (1,2 ,3 ,4 ,5 , 1, 2, 3 ,4 , 5 ,1, 2, 3 ,4 ,5)\n",
    "# 4. Add in a column for number of all-inclusive hotels within each destination\n",
    "holliday['Number of local hotels'] = (200, 100, 120, 500, 600,\n",
    "                                    590, 580, 570, 550, 540,\n",
    "                                     530, 520, 480, 470, 470)\n",
    "# 5. Add in the most visited city in each destination\n",
    "holliday['Most visited city']= (\"London\", \"Hanoi\", \"Seoul\", \"Wasington DC\", \"Shanghai\",\n",
    "                                 \"Mumbai\", \"Munich\", \"Cape Town\", \"Wellington\", \"Bangkok\",\n",
    "                                 \"Singgapore\", \"Kuala Lumpur\", \"Canberra\", \"Bogota\", \"Marid\" )\n",
    "\n",
    "\n",
    "\n",
    "holliday.to_csv('/Users/jinduong/Documents/Data Science/2022/TTA - TechTalent Academy/DataAcademy/Week 5/PandasTask.csv', index= False) # save to csv file\n",
    "\n",
    "holliday # Check the dataframe"
   ]
  },
  {
   "cell_type": "markdown",
   "metadata": {},
   "source": [
    "# Practical\n",
    "1. How many rows and columns are there in your file?\n",
    "2. Print row 3-8 ( using iloc/loc).\n",
    "3. Find the mean number of all-inclusive hotels across all destinations.\n",
    "4. Find the lowest scoring destination.\n",
    "5. Find the highest scoring destination.\n",
    "6. Find all the destinations where there are more than 9 all-inclusive hotels.\n",
    "7. Filter the data by score above 8.\n",
    "8. Filter the data score below 2 ( I need to know if these destinations should be removed or there is a problem)\n",
    "9. Is there a correlation between number of all-inclusive hotels and score?\n",
    "10. Create a data visualisation diagram to show destination and highest scores?"
   ]
  },
  {
   "cell_type": "code",
   "execution_count": 30,
   "metadata": {},
   "outputs": [],
   "source": [
    "del holliday #delete a holliday variable to reset a task"
   ]
  },
  {
   "cell_type": "code",
   "execution_count": 34,
   "metadata": {},
   "outputs": [
    {
     "name": "stdout",
     "output_type": "stream",
     "text": [
      "Nubmer of rows is 15 and number of collums is 5\n"
     ]
    }
   ],
   "source": [
    "# How many rows and columns are there in your file?\n",
    "holliday = pd.read_csv('/Users/jinduong/Documents/Data Science/2022/TTA - TechTalent Academy/DataAcademy/Week 5/PandasTask.csv')#assign the csv file to \"holliday\"\n",
    "\n",
    "print(\"Nubmer of rows is\", holliday.shape[0],\n",
    "        \"and number of collums is\", holliday.shape)\n"
   ]
  },
  {
   "cell_type": "code",
   "execution_count": 48,
   "metadata": {},
   "outputs": [
    {
     "name": "stdout",
     "output_type": "stream",
     "text": [
      "    Destination  Feedback Score  Average star rating  Number of local hotels  \\\n",
      "2       S.Korea               3                    3                     120   \n",
      "3           USA               4                    4                     500   \n",
      "4         China               5                    5                     600   \n",
      "5         India               6                    1                     590   \n",
      "6       Germany               7                    2                     580   \n",
      "7  South Africa               8                    3                     570   \n",
      "\n",
      "  Most visited city  \n",
      "2             Seoul  \n",
      "3      Wasington DC  \n",
      "4          Shanghai  \n",
      "5            Mumbai  \n",
      "6            Munich  \n",
      "7         Cape Town  \n",
      "Empty DataFrame\n",
      "Columns: [Destination, Feedback Score, Average star rating, Number of local hotels, Most visited city]\n",
      "Index: []\n"
     ]
    }
   ],
   "source": [
    "#Print row 3-8 ( using iloc/loc).\n",
    "print(holliday.iloc[2:8]) #use iloc\n",
    "print(holliday.loc[2:8]) #use loc"
   ]
  },
  {
   "cell_type": "code",
   "execution_count": 93,
   "metadata": {},
   "outputs": [
    {
     "name": "stdout",
     "output_type": "stream",
     "text": [
      "The eman number of of all-inclusive hotels across all destinations is 454.6666666666667\n"
     ]
    }
   ],
   "source": [
    "#Find the mean number of all-inclusive hotels across all destinations.\n",
    "print(\"The mean number of of all-inclusive hotels across all destinations is\", holliday[\"Number of local hotels\"].mean())\n",
    "\n"
   ]
  },
  {
   "cell_type": "code",
   "execution_count": 100,
   "metadata": {},
   "outputs": [
    {
     "name": "stdout",
     "output_type": "stream",
     "text": [
      "The lowest scoring destination is 1\n"
     ]
    }
   ],
   "source": [
    "#4. Find the lowest scoring destination.\n",
    "print(\"The lowest scoring destination is\", holliday['Average star rating'].min())"
   ]
  },
  {
   "cell_type": "code",
   "execution_count": 101,
   "metadata": {},
   "outputs": [
    {
     "name": "stdout",
     "output_type": "stream",
     "text": [
      "The highest scoring destination is 5\n"
     ]
    }
   ],
   "source": [
    "#5. Find the highest scoring destination.\n",
    "print(\"The highest scoring destination is\", holliday['Average star rating'].max())"
   ]
  },
  {
   "cell_type": "code",
   "execution_count": 111,
   "metadata": {},
   "outputs": [
    {
     "name": "stdout",
     "output_type": "stream",
     "text": [
      "All the destinations where there are more than 9 all-inclusive hotels is UK, Vietnam, S.Korea, USA, China, India, Germany, South Africa, New Zealand, Thailand, Singapore, Malaysia, Australia, Columbia, Spain\n"
     ]
    }
   ],
   "source": [
    "#6. Find all the destinations where there are more than 9 all-inclusive hotels.\n",
    "print(\"All the destinations where there are more than 9 all-inclusive hotels is\", ', '.join(list(holliday[(holliday['Number of local hotels'] >= 9)]['Destination']))) #Filering with double brackets, then turn pandas.series to list, then from list to string by 'Join'"
   ]
  },
  {
   "cell_type": "code",
   "execution_count": 112,
   "metadata": {},
   "outputs": [
    {
     "data": {
      "text/html": [
       "<div>\n",
       "<style scoped>\n",
       "    .dataframe tbody tr th:only-of-type {\n",
       "        vertical-align: middle;\n",
       "    }\n",
       "\n",
       "    .dataframe tbody tr th {\n",
       "        vertical-align: top;\n",
       "    }\n",
       "\n",
       "    .dataframe thead th {\n",
       "        text-align: right;\n",
       "    }\n",
       "</style>\n",
       "<table border=\"1\" class=\"dataframe\">\n",
       "  <thead>\n",
       "    <tr style=\"text-align: right;\">\n",
       "      <th></th>\n",
       "      <th>Destination</th>\n",
       "      <th>Feedback Score</th>\n",
       "      <th>Average star rating</th>\n",
       "      <th>Number of local hotels</th>\n",
       "      <th>Most visited city</th>\n",
       "    </tr>\n",
       "  </thead>\n",
       "  <tbody>\n",
       "    <tr>\n",
       "      <th>8</th>\n",
       "      <td>New Zealand</td>\n",
       "      <td>9</td>\n",
       "      <td>4</td>\n",
       "      <td>550</td>\n",
       "      <td>Wellington</td>\n",
       "    </tr>\n",
       "    <tr>\n",
       "      <th>9</th>\n",
       "      <td>Thailand</td>\n",
       "      <td>10</td>\n",
       "      <td>5</td>\n",
       "      <td>540</td>\n",
       "      <td>Bangkok</td>\n",
       "    </tr>\n",
       "  </tbody>\n",
       "</table>\n",
       "</div>"
      ],
      "text/plain": [
       "   Destination  Feedback Score  Average star rating  Number of local hotels  \\\n",
       "8  New Zealand               9                    4                     550   \n",
       "9     Thailand              10                    5                     540   \n",
       "\n",
       "  Most visited city  \n",
       "8        Wellington  \n",
       "9           Bangkok  "
      ]
     },
     "execution_count": 112,
     "metadata": {},
     "output_type": "execute_result"
    }
   ],
   "source": [
    "#7. Filter the data by score above 8.\n",
    "holliday[(holliday['Feedback Score'] > 8)]"
   ]
  },
  {
   "cell_type": "code",
   "execution_count": 113,
   "metadata": {},
   "outputs": [
    {
     "data": {
      "text/html": [
       "<div>\n",
       "<style scoped>\n",
       "    .dataframe tbody tr th:only-of-type {\n",
       "        vertical-align: middle;\n",
       "    }\n",
       "\n",
       "    .dataframe tbody tr th {\n",
       "        vertical-align: top;\n",
       "    }\n",
       "\n",
       "    .dataframe thead th {\n",
       "        text-align: right;\n",
       "    }\n",
       "</style>\n",
       "<table border=\"1\" class=\"dataframe\">\n",
       "  <thead>\n",
       "    <tr style=\"text-align: right;\">\n",
       "      <th></th>\n",
       "      <th>Destination</th>\n",
       "      <th>Feedback Score</th>\n",
       "      <th>Average star rating</th>\n",
       "      <th>Number of local hotels</th>\n",
       "      <th>Most visited city</th>\n",
       "    </tr>\n",
       "  </thead>\n",
       "  <tbody>\n",
       "    <tr>\n",
       "      <th>0</th>\n",
       "      <td>UK</td>\n",
       "      <td>1</td>\n",
       "      <td>1</td>\n",
       "      <td>200</td>\n",
       "      <td>London</td>\n",
       "    </tr>\n",
       "    <tr>\n",
       "      <th>10</th>\n",
       "      <td>Singapore</td>\n",
       "      <td>1</td>\n",
       "      <td>1</td>\n",
       "      <td>530</td>\n",
       "      <td>Singgapore</td>\n",
       "    </tr>\n",
       "  </tbody>\n",
       "</table>\n",
       "</div>"
      ],
      "text/plain": [
       "   Destination  Feedback Score  Average star rating  Number of local hotels  \\\n",
       "0           UK               1                    1                     200   \n",
       "10   Singapore               1                    1                     530   \n",
       "\n",
       "   Most visited city  \n",
       "0             London  \n",
       "10        Singgapore  "
      ]
     },
     "execution_count": 113,
     "metadata": {},
     "output_type": "execute_result"
    }
   ],
   "source": [
    "#8. Filter the data score below 2\n",
    "holliday[(holliday['Feedback Score'] < 2)]"
   ]
  },
  {
   "cell_type": "code",
   "execution_count": 128,
   "metadata": {},
   "outputs": [
    {
     "name": "stdout",
     "output_type": "stream",
     "text": [
      "The correclation between number of all-inclusive hotels and score is 0.5466648812824184\n"
     ]
    }
   ],
   "source": [
    "#9.Is there a correlation between number of all-inclusive hotels and score?\n",
    "print(\"The correclation between number of all-inclusive hotels and score is\", holliday[['Feedback Score', 'Number of local hotels']].corr()['Feedback Score'][1])"
   ]
  },
  {
   "cell_type": "code",
   "execution_count": 142,
   "metadata": {},
   "outputs": [
    {
     "data": {
      "text/plain": [
       "<AxesSubplot:xlabel='Destination'>"
      ]
     },
     "execution_count": 142,
     "metadata": {},
     "output_type": "execute_result"
    },
    {
     "data": {
      "image/png": "[encoded data removed]",
      "text/plain": [
       "<Figure size 432x288 with 1 Axes>"
      ]
     },
     "metadata": {
      "needs_background": "light"
     },
     "output_type": "display_data"
    }
   ],
   "source": [
    "#10. Create a data visualisation diagram to show destination and highest scores?\n",
    "holliday.plot.bar(x= 'Destination',\n",
    "                    y = 'Feedback Score')"
   ]
  },
  {
   "cell_type": "markdown",
   "metadata": {},
   "source": [
    "# my question:\n",
    "1. why holliday[\"Number of local hotels\"].mean() and holliday[\"Number of local hotels\"].mean return different result? "
   ]
  }
 ],
 "metadata": {
  "interpreter": {
   "hash": "98590ff4fe04c8543246b2a01debd3de3c5ca9b666f43f1fa87d5110c692004c"
  },
  "kernelspec": {
   "display_name": "Python 3.10.2 64-bit",
   "language": "python",
   "name": "python3"
  },
  "language_info": {
   "codemirror_mode": {
    "name": "ipython",
    "version": 3
   },
   "file_extension": ".py",
   "mimetype": "text/x-python",
   "name": "python",
   "nbconvert_exporter": "python",
   "pygments_lexer": "ipython3",
   "version": "3.10.2"
  },
  "orig_nbformat": 4
 },
 "nbformat": 4,
 "nbformat_minor": 2
}
